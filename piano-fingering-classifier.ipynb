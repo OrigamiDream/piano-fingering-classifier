{
  "nbformat": 4,
  "nbformat_minor": 0,
  "metadata": {
    "colab": {
      "name": "Machine Learning 2nd-Season First Essay.ipynb",
      "provenance": [],
      "collapsed_sections": [],
      "toc_visible": true
    },
    "kernelspec": {
      "name": "python3",
      "display_name": "Python 3"
    },
    "language_info": {
      "name": "python"
    },
    "accelerator": "GPU"
  },
  "cells": [
    {
      "cell_type": "markdown",
      "metadata": {
        "id": "imPJtBYf4RUm"
      },
      "source": [
        "# Piano Fingering Dataset을 이용하여 손가락 위치 예측"
      ]
    },
    {
      "cell_type": "markdown",
      "metadata": {
        "id": "wWTRFE8t4XzS"
      },
      "source": [
        "#### 1. 데이터 불러오기 및 전처리"
      ]
    },
    {
      "cell_type": "markdown",
      "metadata": {
        "id": "uGfP8JsO4cCt"
      },
      "source": [
        "##### GitHub에서 데이터 불러오기"
      ]
    },
    {
      "cell_type": "code",
      "metadata": {
        "colab": {
          "base_uri": "https://localhost:8080/"
        },
        "id": "mj6PNdG1-TIO",
        "outputId": "5492a3ab-9d8a-4eeb-f0ad-9d00ffd9e9d5"
      },
      "source": [
        "!rm -f raws.zip*\n",
        "!wget https://github.com/OrigamiDream/piano-fingering-classifier/raw/main/raws.zip # It's me!\n",
        "!unzip -qq -o raws.zip"
      ],
      "execution_count": 132,
      "outputs": [
        {
          "output_type": "stream",
          "name": "stdout",
          "text": [
            "--2021-12-03 15:47:54--  https://github.com/OrigamiDream/piano-fingering-classifier/raw/main/raws.zip\n",
            "Resolving github.com (github.com)... 140.82.121.4\n",
            "Connecting to github.com (github.com)|140.82.121.4|:443... connected.\n",
            "HTTP request sent, awaiting response... 302 Found\n",
            "Location: https://raw.githubusercontent.com/OrigamiDream/piano-fingering-classifier/main/raws.zip [following]\n",
            "--2021-12-03 15:47:54--  https://raw.githubusercontent.com/OrigamiDream/piano-fingering-classifier/main/raws.zip\n",
            "Resolving raw.githubusercontent.com (raw.githubusercontent.com)... 185.199.108.133, 185.199.109.133, 185.199.110.133, ...\n",
            "Connecting to raw.githubusercontent.com (raw.githubusercontent.com)|185.199.108.133|:443... connected.\n",
            "HTTP request sent, awaiting response... 200 OK\n",
            "Length: 960170 (938K) [application/zip]\n",
            "Saving to: ‘raws.zip’\n",
            "\n",
            "raws.zip            100%[===================>] 937.67K  --.-KB/s    in 0.02s   \n",
            "\n",
            "2021-12-03 15:47:55 (39.0 MB/s) - ‘raws.zip’ saved [960170/960170]\n",
            "\n"
          ]
        }
      ]
    },
    {
      "cell_type": "markdown",
      "metadata": {
        "id": "hijQyyaa4m2p"
      },
      "source": [
        "##### 필요한 라이브러리 불러오기"
      ]
    },
    {
      "cell_type": "code",
      "metadata": {
        "id": "2CXwqj0S93Tb"
      },
      "source": [
        "import os\n",
        "import glob\n",
        "import shutil\n",
        "import numpy as np\n",
        "import pandas as pd\n",
        "import matplotlib.pyplot as plt\n",
        "\n",
        "from sklearn.model_selection import train_test_split, GridSearchCV\n",
        "from sklearn.neighbors import KNeighborsClassifier, KNeighborsRegressor\n",
        "from tensorflow.keras.preprocessing.sequence import TimeseriesGenerator\n",
        "from tensorflow.keras.callbacks import EarlyStopping, ModelCheckpoint\n",
        "from tensorflow.keras.layers import Input, Bidirectional, LSTM, Dense, Embedding, Dropout, BatchNormalization, Add\n",
        "from tensorflow.keras.losses import BinaryCrossentropy\n",
        "from tensorflow.keras.models import Model, load_model"
      ],
      "execution_count": 118,
      "outputs": []
    },
    {
      "cell_type": "markdown",
      "metadata": {
        "id": "yhcg5KK94sap"
      },
      "source": [
        "#### 영어 음이름을 MIDI코드로 변경해 주는 함수 선언\n",
        "\n",
        "- C4 -> 60\n",
        "- A0 -> 21\n",
        "- C8 -> 108 등"
      ]
    },
    {
      "cell_type": "code",
      "metadata": {
        "id": "tkDT-dej9_WH"
      },
      "source": [
        "pitch_dicts = {'C': 0, 'D': 2, 'E': 4, 'F': 5, 'G': 7, 'A': 9, 'B': 11}\n",
        "\n",
        "def map_pitch(spelled_pitch):\n",
        "    assert 2 <= len(spelled_pitch) <= 3\n",
        "    if len(spelled_pitch) == 3:\n",
        "        semitone = True\n",
        "    else:\n",
        "        semitone = False\n",
        "    note_name = spelled_pitch[0]\n",
        "    octave = int(spelled_pitch[-1]) - 4  # C4\n",
        "    pitch_num = pitch_dicts[note_name]\n",
        "    if semitone:\n",
        "        tone = spelled_pitch[1]\n",
        "        if tone == 'b':  # flat\n",
        "            pitch_num -= 1\n",
        "        elif tone == '#':  # sharp\n",
        "            pitch_num += 1\n",
        "    return octave * 12 + pitch_num + 60  # 1 octave = 12 pitches, C4 = 60\n",
        "\n",
        "assert map_pitch('C4') == 60\n",
        "assert map_pitch('A0') == 21\n",
        "assert map_pitch('C8') == 108\n"
      ],
      "execution_count": 3,
      "outputs": []
    },
    {
      "cell_type": "markdown",
      "metadata": {
        "id": "3xCmW0vT5ACh"
      },
      "source": [
        "##### `raws` 폴더에 있는 파일을 CSV포맷에 맞춰 처리 후 `combined` 폴더로 이동하는 함수 선언"
      ]
    },
    {
      "cell_type": "code",
      "metadata": {
        "id": "0kKGUC784iZ5"
      },
      "source": [
        "def preprocess_raw_datasets(from_dirpath='raws', to_dirpath='combined'):\n",
        "    if not os.path.exists(from_dirpath):\n",
        "        raise RuntimeError('`{}` directory must be existed.'.format(from_dirpath))\n",
        "\n",
        "    files = os.listdir(from_dirpath)\n",
        "\n",
        "    distinct_names = [filename.split('-')[0] for filename in files if '.txt' in filename]\n",
        "    distinct_names = list(set(distinct_names))  # remove duplicates\n",
        "    distinct_names.sort()  # sort alphabetically\n",
        "\n",
        "    if os.path.exists(to_dirpath):\n",
        "        shutil.rmtree(to_dirpath)\n",
        "    os.mkdir(to_dirpath)\n",
        "\n",
        "    print('Preparing {} files in a row'.format(len(files)))\n",
        "    succeeded = 0\n",
        "    for name in distinct_names:\n",
        "        eligible_files = [filename for filename in files if filename.startswith(f'{name}-')]\n",
        "        eligible_files.sort()  # sort alphabetically\n",
        "\n",
        "        for index, eligible_file in enumerate(eligible_files):\n",
        "            dst_filepath = os.path.join(to_dirpath, f'{name}-v{index + 1}.csv')\n",
        "            src_filepath = os.path.join(from_dirpath, eligible_file)\n",
        "            with open(src_filepath, 'r') as src_file:\n",
        "                lines = src_file.readlines()\n",
        "                if lines[0].startswith('//'):\n",
        "                    lines.pop(0)\n",
        "                if not lines[-1].endswith('\\n'):\n",
        "                    lines[-1] += '\\n'\n",
        "            with open(dst_filepath, 'w') as dst_file:\n",
        "                for line in lines:\n",
        "                    dst_file.write(line.replace('\\t', ','))\n",
        "            succeeded += 1\n",
        "    print('Combined separated files into {} files'.format(succeeded))\n"
      ],
      "execution_count": 4,
      "outputs": []
    },
    {
      "cell_type": "markdown",
      "metadata": {
        "id": "G0xkK7oN5Inh"
      },
      "source": [
        "##### CSV파일을 전처리하는 함수 선언\n",
        "\n",
        "1. `channel` == 0, `finger_number` 에 `-`가 없는 데이터를 골라내기 — 오른손 정보만 추출\n",
        "2. `4_1` 처럼 연주 중간에 손가락 위치가 바뀌는 경우 시간대를 두 개로 나눠 `4`와 `1` 각각 분리\n",
        "3. 영어 음이름(C4, A#0, Cb8 등)을 MIDI코드로 변환\n",
        "4. 겹치는 시간대의 코드들을 한 row에 병합\n",
        "  - 한 번에 연주해야하는 음이 5개(사람의 한 손가락 수)를 초과 시 해당하는 악보 제외\n",
        "5. 동시에 활성화된 손가락 번호들을 0과 1로 인코딩"
      ]
    },
    {
      "cell_type": "code",
      "metadata": {
        "id": "gNuJ9Ltu44AH"
      },
      "source": [
        "def preprocess_csv(filepath):\n",
        "    df = pd.read_csv(filepath, header=None)\n",
        "    df.columns = ['note_id', 'onset_time', 'offset_time', 'spelled_pitch', 'onset_velocity', 'offset_velocity', 'channel', 'finger_number']\n",
        "    df['finger_number'] = df['finger_number'].astype('str')\n",
        "\n",
        "    mask = (df['channel'] == 0) & (~df['finger_number'].str.contains('-'))  # right-hand only\n",
        "    df_RH = df[mask]\n",
        "    # df_RH.head(10)\n",
        "\n",
        "    necessary_columns = ['note_id', 'onset_time', 'offset_time', 'spelled_pitch', 'finger_number']\n",
        "    df = df_RH[necessary_columns].copy()\n",
        "    df['time_diff'] = (df['offset_time'] - df['onset_time']) / 2\n",
        "    df_subs = df[df['finger_number'].astype('str').str.contains('_')].copy()\n",
        "\n",
        "    df.drop(df_subs.index, inplace=True)  # drop finger substitution row\n",
        "    # df.head(15)\n",
        "\n",
        "    new_lines = []\n",
        "    for i, index in enumerate(df_subs.index):\n",
        "        sr = df_subs.iloc[i, :]\n",
        "        finger_subs = sr['finger_number'].split('_')\n",
        "        if len(finger_subs[1]) > 0:\n",
        "            new_line = pd.DataFrame({\n",
        "                'note_id': sr['note_id'],\n",
        "                'onset_time': sr['onset_time'] + sr['time_diff'],\n",
        "                'offset_time': sr['offset_time'],\n",
        "                'spelled_pitch': sr['spelled_pitch'],\n",
        "                'finger_number': finger_subs[1],\n",
        "                'time_diff': 0.0\n",
        "            }, index=[float(index) + 0.5])\n",
        "            new_lines.append(new_line)\n",
        "        else:\n",
        "            print('Warning: Invalid finger substitution in \\'{}\\' on time {}: {}'.format(filepath, sr['onset_time'], sr['finger_number']))\n",
        "\n",
        "        df_subs.iloc[i, 4] = finger_subs[0]  # finger_number\n",
        "        df_subs.iloc[i, 2] = sr['onset_time'] + sr['time_diff'] - 0.000001\n",
        "    for new_line in new_lines:\n",
        "        df_subs = df_subs.append(new_line, ignore_index=False)\n",
        "    df = df.append(df_subs, ignore_index=False)\n",
        "    df = df.sort_index().reset_index(drop=True)\n",
        "    df.drop(['note_id', 'time_diff'], inplace=True, axis=1)\n",
        "\n",
        "    df['finger_number'] = df['finger_number'].astype('uint8')\n",
        "    # df.head(15)\n",
        "\n",
        "    df['pitch'] = df['spelled_pitch'].map(map_pitch)\n",
        "    df = df[['onset_time', 'offset_time', 'spelled_pitch', 'pitch', 'finger_number']]\n",
        "    # df.head(15)\n",
        "\n",
        "    data_y = pd.DataFrame()\n",
        "    data_X = pd.DataFrame()\n",
        "\n",
        "    max_combined_notes = 0\n",
        "    prev_df_notes = None\n",
        "    for index in df.index:\n",
        "        sr = df.iloc[index, :]\n",
        "        onset_time = sr['onset_time']\n",
        "\n",
        "        mask = (df['onset_time'] <= onset_time) & (df['offset_time'] > onset_time)\n",
        "        df_notes = df[mask]\n",
        "        if prev_df_notes is not None and prev_df_notes.equals(df_notes):\n",
        "            continue\n",
        "        else:\n",
        "            prev_df_notes = df_notes\n",
        "\n",
        "        max_combined_notes = max(max_combined_notes, len(df_notes))\n",
        "        if max_combined_notes > 5:\n",
        "            return None, None, ('over_5_fingers', max_combined_notes, df_notes.copy())\n",
        "\n",
        "        pitches = df_notes['pitch'].values\n",
        "        row_X = {}\n",
        "        for i in range(128):\n",
        "            row_X['{}'.format(i)] = 1 if i in pitches else 0\n",
        "\n",
        "        fingers = df_notes['finger_number']\n",
        "        keys = ['first', 'second', 'third', 'fourth', 'fifth']\n",
        "        values = [0, 0, 0, 0, 0]\n",
        "        for finger in fingers:\n",
        "            values[finger - 1] = 1\n",
        "        row_y = dict(zip(keys, values))\n",
        "\n",
        "        data_X = data_X.append(row_X, ignore_index=True)\n",
        "        data_y = data_y.append(row_y, ignore_index=True)\n",
        "\n",
        "    data_X = data_X.astype('uint8')\n",
        "\n",
        "    return data_X, data_y, None\n"
      ],
      "execution_count": 5,
      "outputs": []
    },
    {
      "cell_type": "code",
      "metadata": {
        "id": "lQaCb3t-A9Un"
      },
      "source": [
        "ds_dirpath = 'combined'\n",
        "timesteps = 10\n",
        "ds_limit = None  # Number of sheets to be used for Datasets, None for all"
      ],
      "execution_count": 41,
      "outputs": []
    },
    {
      "cell_type": "markdown",
      "metadata": {
        "id": "-DQw7TqUBcy7"
      },
      "source": [
        "#### 전처리 수행"
      ]
    },
    {
      "cell_type": "markdown",
      "metadata": {
        "id": "4quCTSEtCSKW"
      },
      "source": [
        "##### 1. TXT파일을 CSV파일로 변환"
      ]
    },
    {
      "cell_type": "code",
      "metadata": {
        "colab": {
          "base_uri": "https://localhost:8080/"
        },
        "id": "y063O6HVBDfx",
        "outputId": "9075a2cc-2407-4552-c766-42d3d60e7db5"
      },
      "source": [
        "preprocess_raw_datasets('raws', ds_dirpath)  # moves raw datasets into combined datasets"
      ],
      "execution_count": 42,
      "outputs": [
        {
          "output_type": "stream",
          "name": "stdout",
          "text": [
            "Preparing 309 files in a row\n",
            "Combined separated files into 309 files\n"
          ]
        }
      ]
    },
    {
      "cell_type": "markdown",
      "metadata": {
        "id": "0Yld5C8KBn2A"
      },
      "source": [
        "##### 2. 전처리 수행 후 `TimeseriesGenerator`를 이용하여 시계열 데이터 청크 생성"
      ]
    },
    {
      "cell_type": "code",
      "metadata": {
        "colab": {
          "base_uri": "https://localhost:8080/"
        },
        "id": "Ggdh9QxWBEIY",
        "outputId": "eaf18f75-7cc2-4c3f-bf25-6d87625eeacf"
      },
      "source": [
        "datasets = {\n",
        "    'X': [],\n",
        "    'y': []\n",
        "}\n",
        "\n",
        "for count, globed_file in enumerate(glob.glob(os.path.join(ds_dirpath, '*.csv'))):\n",
        "    if ds_limit is not None and count >= ds_limit:\n",
        "        break\n",
        "    ds_X, ds_y, failure = preprocess_csv(globed_file)  # preprocess csv files into DataFrame format\n",
        "    if failure is not None:\n",
        "        failure_reason = failure[0]\n",
        "        if failure_reason == 'over_5_fingers':\n",
        "            max_combined_notes, dataframe = failure[1:]\n",
        "            print('Warning: File \\'{}\\' needs to use {} fingers at the same time. Skipped.'.format(globed_file, max_combined_notes))\n",
        "            print('DataFrame:')\n",
        "            print('\\n'.join([' >> {}'.format(line) for line in dataframe.to_string().split('\\n')]))\n",
        "        continue\n",
        "    ds_y.drop(ds_y.head(timesteps - 1).index, inplace=True)  # drop first `timesteps` rows\n",
        "\n",
        "    finger_keys = ['first', 'second', 'third', 'fourth', 'fifth']\n",
        "    new_rows = {}\n",
        "    for key in finger_keys:\n",
        "        new_rows[key] = np.zeros(timesteps - 1, dtype=np.uint8)\n",
        "    new_df = pd.DataFrame(new_rows)\n",
        "\n",
        "    ds_y = pd.concat([ds_y, new_df])  # append `timesteps` empty rows\n",
        "    ds_y = ds_y.reset_index(drop=True)\n",
        "\n",
        "    data_iter = TimeseriesGenerator(ds_X.to_numpy(),\n",
        "                                    ds_y.to_numpy(),\n",
        "                                    length=timesteps,\n",
        "                                    batch_size=1,\n",
        "                                    shuffle=False)\n",
        "\n",
        "    for i in range(len(data_iter)):\n",
        "        ts_X, ts_y = data_iter[i]\n",
        "        datasets['X'].append(np.reshape(ts_X, (timesteps, 128)))\n",
        "        datasets['y'].append(np.reshape(ts_y, (5,)))\n",
        "\n",
        "datasets['X'] = np.array(datasets['X'])\n",
        "datasets['y'] = np.array(datasets['y'])\n",
        "\n",
        "train_X, test_X, train_y, test_y = train_test_split(datasets['X'], datasets['y'], test_size=0.3)\n",
        "train_X, valid_X, train_y, valid_y = train_test_split(train_X, train_y, test_size=0.2)\n",
        "\n",
        "print('Finished preprocessing and splitting into training, validation and testing set.')"
      ],
      "execution_count": 43,
      "outputs": [
        {
          "output_type": "stream",
          "name": "stdout",
          "text": [
            "Warning: File 'combined/105-v1.csv' needs to use 6 fingers at the same time. Skipped.\n",
            "DataFrame:\n",
            " >>     onset_time  offset_time spelled_pitch  pitch  finger_number\n",
            " >> 49     21.1501      22.2793           F#3     54              1\n",
            " >> 50     21.1501      22.2359           G#3     56              1\n",
            " >> 51     21.1501      22.2359            C4     60              2\n",
            " >> 52     21.1501      22.2359           G#4     68              5\n",
            " >> 53     21.1501      21.9883            E4     64              4\n",
            " >> 54     21.9568      22.1979           Eb4     63              4\n",
            "Warning: File 'combined/029-v2.csv' needs to use 7 fingers at the same time. Skipped.\n",
            "DataFrame:\n",
            " >>      onset_time  offset_time spelled_pitch  pitch  finger_number\n",
            " >> 152     28.1723      28.6626            E5     76              2\n",
            " >> 153     28.1723      28.6626            G5     79              3\n",
            " >> 155     28.4117      28.6532           Bb4     70              1\n",
            " >> 156     28.6443      28.8835           G#4     68              1\n",
            " >> 157     28.6443      28.8835            B4     71              2\n",
            " >> 158     28.6443      28.8835            F5     77              4\n",
            " >> 159     28.6443      28.8835           G#5     80              5\n",
            "Warning: File 'combined/029-v1.csv' needs to use 7 fingers at the same time. Skipped.\n",
            "DataFrame:\n",
            " >>      onset_time  offset_time spelled_pitch  pitch  finger_number\n",
            " >> 152     28.1723      28.6626            E5     76              2\n",
            " >> 153     28.1723      28.6626            G5     79              4\n",
            " >> 155     28.4117      28.6532           Bb4     70              1\n",
            " >> 156     28.6443      28.8835           G#4     68              1\n",
            " >> 157     28.6443      28.8835            B4     71              2\n",
            " >> 158     28.6443      28.8835            F5     77              4\n",
            " >> 159     28.6443      28.8835           G#5     80              5\n",
            "Warning: Invalid finger substitution in 'combined/028-v3.csv' on time 5.50026: 4_\n",
            "Warning: File 'combined/029-v5.csv' needs to use 7 fingers at the same time. Skipped.\n",
            "DataFrame:\n",
            " >>      onset_time  offset_time spelled_pitch  pitch  finger_number\n",
            " >> 153     28.1723      28.6626            E5     76              2\n",
            " >> 154     28.1723      28.6626            G5     79              3\n",
            " >> 156     28.4117      28.6532           Bb4     70              1\n",
            " >> 157     28.6443      28.8835           G#4     68              1\n",
            " >> 158     28.6443      28.8835            B4     71              2\n",
            " >> 159     28.6443      28.8835            F5     77              4\n",
            " >> 160     28.6443      28.8835           G#5     80              5\n",
            "Warning: File 'combined/029-v3.csv' needs to use 7 fingers at the same time. Skipped.\n",
            "DataFrame:\n",
            " >>      onset_time  offset_time spelled_pitch  pitch  finger_number\n",
            " >> 151     28.1723      28.6626            E5     76              2\n",
            " >> 152     28.1723      28.6626            G5     79              4\n",
            " >> 154     28.4117      28.6532           Bb4     70              1\n",
            " >> 155     28.6443      28.8835           G#4     68              1\n",
            " >> 156     28.6443      28.8835            B4     71              2\n",
            " >> 157     28.6443      28.8835            F5     77              4\n",
            " >> 158     28.6443      28.8835           G#5     80              5\n",
            "Warning: File 'combined/029-v4.csv' needs to use 7 fingers at the same time. Skipped.\n",
            "DataFrame:\n",
            " >>      onset_time  offset_time spelled_pitch  pitch  finger_number\n",
            " >> 144     28.1723      28.6626            E5     76              2\n",
            " >> 145     28.1723      28.6626            G5     79              4\n",
            " >> 147     28.4117      28.6532           Bb4     70              1\n",
            " >> 148     28.6443      28.8835           G#4     68              1\n",
            " >> 149     28.6443      28.8835            B4     71              2\n",
            " >> 150     28.6443      28.8835            F5     77              4\n",
            " >> 151     28.6443      28.8835           G#5     80              5\n",
            "Finished preprocessing and splitting into training, validation and testing set.\n"
          ]
        }
      ]
    },
    {
      "cell_type": "code",
      "metadata": {
        "colab": {
          "base_uri": "https://localhost:8080/"
        },
        "id": "493iF2vE29Da",
        "outputId": "eacb1d7f-982a-4a33-c1ef-c92d89d72dd6"
      },
      "source": [
        "print('Training Set:', train_X.shape, train_y.shape)\n",
        "print('Validation Set:', valid_X.shape, valid_y.shape)\n",
        "print('Testing Set:', test_X.shape, test_y.shape)"
      ],
      "execution_count": 44,
      "outputs": [
        {
          "output_type": "stream",
          "name": "stdout",
          "text": [
            "Training Set: (22108, 10, 128) (22108, 5)\n",
            "Validation Set: (5527, 10, 128) (5527, 5)\n",
            "Testing Set: (11844, 10, 128) (11844, 5)\n"
          ]
        }
      ]
    },
    {
      "cell_type": "code",
      "metadata": {
        "id": "WVDNm358BMid"
      },
      "source": [
        "def flatten_timeseries(data):\n",
        "    # flatten timeseries data to be fit to KNeighborsClassifier\n",
        "    return np.reshape(data, (len(data), timesteps * 128))"
      ],
      "execution_count": 25,
      "outputs": []
    },
    {
      "cell_type": "markdown",
      "metadata": {
        "id": "gCJRYyDOCF2Z"
      },
      "source": [
        "#### GridSearch 시행 및 플롯 생성 함수 선언"
      ]
    },
    {
      "cell_type": "code",
      "metadata": {
        "id": "OeEINqvQBQmo"
      },
      "source": [
        "def perform_grid_search(ds, sklearn_classifier_type, kmax=20):\n",
        "    params = {\n",
        "        'n_neighbors': np.arange(1, kmax + 1)\n",
        "    }\n",
        "    model = sklearn_classifier_type()\n",
        "    gs = GridSearchCV(model, param_grid=params, cv=10, n_jobs=-1)\n",
        "    gs.fit(flatten_timeseries(train_X), train_y)\n",
        "\n",
        "    plt.plot(gs.cv_results_['mean_test_score'])\n",
        "    plt.legend()\n",
        "    plt.xlabel('K')\n",
        "    plt.ylabel('scores')\n",
        "\n",
        "    ticks = params['n_neighbors']\n",
        "    ticks = [ticks.min(), gs.best_estimator_.n_neighbors, ticks.max()]\n",
        "    plt.xticks([x - 1 for x in ticks], ticks)\n",
        "    plt.show()\n",
        "    return gs.best_estimator_"
      ],
      "execution_count": 116,
      "outputs": []
    },
    {
      "cell_type": "markdown",
      "metadata": {
        "id": "bfbmL60mCWtN"
      },
      "source": [
        "#### 알고리즘 테스트"
      ]
    },
    {
      "cell_type": "markdown",
      "metadata": {
        "id": "hfPbsXqpCcHK"
      },
      "source": [
        "##### K값을 1부터 10까지 설정하여 `KNeighborsClassifier`로 정확도 측정"
      ]
    },
    {
      "cell_type": "code",
      "metadata": {
        "colab": {
          "base_uri": "https://localhost:8080/",
          "height": 296
        },
        "id": "k2W2tT-sCO4h",
        "outputId": "026cb213-2f80-42da-a972-d2d883158c86"
      },
      "source": [
        "# GridSearch KNeighborsClassifier with kmax=10\n",
        "best_estimator = perform_grid_search(datasets, KNeighborsClassifier, kmax=10)  # Best Hyperparameter K is 1"
      ],
      "execution_count": 117,
      "outputs": [
        {
          "output_type": "stream",
          "name": "stderr",
          "text": [
            "No handles with labels found to put in legend.\n"
          ]
        },
        {
          "output_type": "display_data",
          "data": {
            "image/png": "[encoded data removed]",
            "text/plain": [
              "<Figure size 432x288 with 1 Axes>"
            ]
          },
          "metadata": {
            "needs_background": "light"
          }
        }
      ]
    },
    {
      "cell_type": "markdown",
      "metadata": {
        "id": "AoaOIzQfDC6U"
      },
      "source": [
        "##### `LSTM`으로 정확도 측정"
      ]
    },
    {
      "cell_type": "code",
      "metadata": {
        "id": "8k5IG3r7DFvo"
      },
      "source": [
        "input_layer = Input(shape=(timesteps, 128))\n",
        "x = input_layer\n",
        "x = LSTM(256, kernel_initializer='he_normal', return_sequences=True)(x)\n",
        "x = LSTM(256, kernel_initializer='he_normal')(x)\n",
        "x = Dense(512, activation='relu', kernel_initializer='he_normal')(x)\n",
        "x = Dense(512, activation='relu', kernel_initializer='he_normal')(x)\n",
        "output_layer = Dense(5, activation='sigmoid')(x)\n",
        "model = Model(inputs=input_layer, outputs=output_layer)\n",
        "\n",
        "model.compile(optimizer='adam', loss=BinaryCrossentropy(from_logits=True), metrics=['accuracy'])"
      ],
      "execution_count": 112,
      "outputs": []
    },
    {
      "cell_type": "code",
      "metadata": {
        "colab": {
          "base_uri": "https://localhost:8080/"
        },
        "id": "oXKH6vc1DQar",
        "outputId": "c672839b-d559-4b95-fb58-d2aaba5d32ae"
      },
      "source": [
        "filepath = 'best_weights_lstm.hdf5'\n",
        "callbacks = [\n",
        "    EarlyStopping(monitor='val_accuracy', patience=20, verbose=True),\n",
        "    ModelCheckpoint(filepath, monitor='val_accuracy', verbose=True, save_best_only=True)\n",
        "]\n",
        "\n",
        "probe = model.fit(train_X,\n",
        "                  train_y,\n",
        "                  batch_size=512,\n",
        "                  verbose=0,\n",
        "                  epochs=500,\n",
        "                  callbacks=callbacks,\n",
        "                  validation_data=(valid_X, valid_y))"
      ],
      "execution_count": 113,
      "outputs": [
        {
          "output_type": "stream",
          "name": "stderr",
          "text": [
            "/usr/local/lib/python3.7/dist-packages/tensorflow/python/util/dispatch.py:1096: UserWarning: \"`binary_crossentropy` received `from_logits=True`, but the `output` argument was produced by a sigmoid or softmax activation and thus does not represent logits. Was this intended?\"\n",
            "  return dispatch_target(*args, **kwargs)\n"
          ]
        },
        {
          "output_type": "stream",
          "name": "stdout",
          "text": [
            "\n",
            "Epoch 00001: val_accuracy improved from -inf to 0.26904, saving model to best_weights_lstm.hdf5\n",
            "\n",
            "Epoch 00002: val_accuracy improved from 0.26904 to 0.28316, saving model to best_weights_lstm.hdf5\n",
            "\n",
            "Epoch 00003: val_accuracy improved from 0.28316 to 0.28931, saving model to best_weights_lstm.hdf5\n",
            "\n",
            "Epoch 00004: val_accuracy did not improve from 0.28931\n",
            "\n",
            "Epoch 00005: val_accuracy improved from 0.28931 to 0.29021, saving model to best_weights_lstm.hdf5\n",
            "\n",
            "Epoch 00006: val_accuracy improved from 0.29021 to 0.30812, saving model to best_weights_lstm.hdf5\n",
            "\n",
            "Epoch 00007: val_accuracy improved from 0.30812 to 0.32857, saving model to best_weights_lstm.hdf5\n",
            "\n",
            "Epoch 00008: val_accuracy did not improve from 0.32857\n",
            "\n",
            "Epoch 00009: val_accuracy improved from 0.32857 to 0.33309, saving model to best_weights_lstm.hdf5\n",
            "\n",
            "Epoch 00010: val_accuracy did not improve from 0.33309\n",
            "\n",
            "Epoch 00011: val_accuracy did not improve from 0.33309\n",
            "\n",
            "Epoch 00012: val_accuracy improved from 0.33309 to 0.33653, saving model to best_weights_lstm.hdf5\n",
            "\n",
            "Epoch 00013: val_accuracy did not improve from 0.33653\n",
            "\n",
            "Epoch 00014: val_accuracy improved from 0.33653 to 0.34015, saving model to best_weights_lstm.hdf5\n",
            "\n",
            "Epoch 00015: val_accuracy did not improve from 0.34015\n",
            "\n",
            "Epoch 00016: val_accuracy improved from 0.34015 to 0.35915, saving model to best_weights_lstm.hdf5\n",
            "\n",
            "Epoch 00017: val_accuracy did not improve from 0.35915\n",
            "\n",
            "Epoch 00018: val_accuracy improved from 0.35915 to 0.36693, saving model to best_weights_lstm.hdf5\n",
            "\n",
            "Epoch 00019: val_accuracy improved from 0.36693 to 0.37434, saving model to best_weights_lstm.hdf5\n",
            "\n",
            "Epoch 00020: val_accuracy did not improve from 0.37434\n",
            "\n",
            "Epoch 00021: val_accuracy did not improve from 0.37434\n",
            "\n",
            "Epoch 00022: val_accuracy did not improve from 0.37434\n",
            "\n",
            "Epoch 00023: val_accuracy improved from 0.37434 to 0.38303, saving model to best_weights_lstm.hdf5\n",
            "\n",
            "Epoch 00024: val_accuracy improved from 0.38303 to 0.39171, saving model to best_weights_lstm.hdf5\n",
            "\n",
            "Epoch 00025: val_accuracy improved from 0.39171 to 0.41053, saving model to best_weights_lstm.hdf5\n",
            "\n",
            "Epoch 00026: val_accuracy did not improve from 0.41053\n",
            "\n",
            "Epoch 00027: val_accuracy did not improve from 0.41053\n",
            "\n",
            "Epoch 00028: val_accuracy improved from 0.41053 to 0.41487, saving model to best_weights_lstm.hdf5\n",
            "\n",
            "Epoch 00029: val_accuracy did not improve from 0.41487\n",
            "\n",
            "Epoch 00030: val_accuracy did not improve from 0.41487\n",
            "\n",
            "Epoch 00031: val_accuracy improved from 0.41487 to 0.42772, saving model to best_weights_lstm.hdf5\n",
            "\n",
            "Epoch 00032: val_accuracy did not improve from 0.42772\n",
            "\n",
            "Epoch 00033: val_accuracy did not improve from 0.42772\n",
            "\n",
            "Epoch 00034: val_accuracy did not improve from 0.42772\n",
            "\n",
            "Epoch 00035: val_accuracy improved from 0.42772 to 0.43297, saving model to best_weights_lstm.hdf5\n",
            "\n",
            "Epoch 00036: val_accuracy did not improve from 0.43297\n",
            "\n",
            "Epoch 00037: val_accuracy did not improve from 0.43297\n",
            "\n",
            "Epoch 00038: val_accuracy improved from 0.43297 to 0.44038, saving model to best_weights_lstm.hdf5\n",
            "\n",
            "Epoch 00039: val_accuracy did not improve from 0.44038\n",
            "\n",
            "Epoch 00040: val_accuracy did not improve from 0.44038\n",
            "\n",
            "Epoch 00041: val_accuracy did not improve from 0.44038\n",
            "\n",
            "Epoch 00042: val_accuracy improved from 0.44038 to 0.44672, saving model to best_weights_lstm.hdf5\n",
            "\n",
            "Epoch 00043: val_accuracy did not improve from 0.44672\n",
            "\n",
            "Epoch 00044: val_accuracy did not improve from 0.44672\n",
            "\n",
            "Epoch 00045: val_accuracy did not improve from 0.44672\n",
            "\n",
            "Epoch 00046: val_accuracy improved from 0.44672 to 0.44853, saving model to best_weights_lstm.hdf5\n",
            "\n",
            "Epoch 00047: val_accuracy did not improve from 0.44853\n",
            "\n",
            "Epoch 00048: val_accuracy did not improve from 0.44853\n",
            "\n",
            "Epoch 00049: val_accuracy did not improve from 0.44853\n",
            "\n",
            "Epoch 00050: val_accuracy did not improve from 0.44853\n",
            "\n",
            "Epoch 00051: val_accuracy did not improve from 0.44853\n",
            "\n",
            "Epoch 00052: val_accuracy did not improve from 0.44853\n",
            "\n",
            "Epoch 00053: val_accuracy did not improve from 0.44853\n",
            "\n",
            "Epoch 00054: val_accuracy did not improve from 0.44853\n",
            "\n",
            "Epoch 00055: val_accuracy did not improve from 0.44853\n",
            "\n",
            "Epoch 00056: val_accuracy did not improve from 0.44853\n",
            "\n",
            "Epoch 00057: val_accuracy did not improve from 0.44853\n",
            "\n",
            "Epoch 00058: val_accuracy did not improve from 0.44853\n",
            "\n",
            "Epoch 00059: val_accuracy did not improve from 0.44853\n",
            "\n",
            "Epoch 00060: val_accuracy did not improve from 0.44853\n",
            "\n",
            "Epoch 00061: val_accuracy did not improve from 0.44853\n",
            "\n",
            "Epoch 00062: val_accuracy did not improve from 0.44853\n",
            "\n",
            "Epoch 00063: val_accuracy did not improve from 0.44853\n",
            "\n",
            "Epoch 00064: val_accuracy did not improve from 0.44853\n",
            "\n",
            "Epoch 00065: val_accuracy did not improve from 0.44853\n",
            "\n",
            "Epoch 00066: val_accuracy did not improve from 0.44853\n",
            "Epoch 00066: early stopping\n"
          ]
        }
      ]
    },
    {
      "cell_type": "code",
      "metadata": {
        "colab": {
          "base_uri": "https://localhost:8080/"
        },
        "id": "KJevp4Q_DYa-",
        "outputId": "f8213576-a790-4e65-f97b-43420a0a2528"
      },
      "source": [
        "model.evaluate(test_X, test_y)"
      ],
      "execution_count": 114,
      "outputs": [
        {
          "output_type": "stream",
          "name": "stdout",
          "text": [
            "371/371 [==============================] - 2s 4ms/step - loss: 0.8608 - accuracy: 0.4424\n"
          ]
        },
        {
          "output_type": "execute_result",
          "data": {
            "text/plain": [
              "[0.8607692718505859, 0.44241809844970703]"
            ]
          },
          "metadata": {},
          "execution_count": 114
        }
      ]
    },
    {
      "cell_type": "code",
      "metadata": {
        "colab": {
          "base_uri": "https://localhost:8080/",
          "height": 513
        },
        "id": "oQFRFV2eDTCV",
        "outputId": "255fa087-9a46-4f11-9fd7-844c81458e30"
      },
      "source": [
        "keys = probe.history.keys()\n",
        "groups = ['loss', 'accuracy']\n",
        "fig = plt.figure(figsize=(7, 7))\n",
        "for index, group in enumerate(groups):\n",
        "    ax = fig.add_subplot(len(groups), 1, index + 1)\n",
        "    eligible_keys = [key for key in keys if group in key]\n",
        "    for key in eligible_keys:\n",
        "        ax.plot(probe.history[key], label=key)\n",
        "    ax.set_xlabel('Epoch')\n",
        "    ax.set_ylabel(group)\n",
        "    ax.legend(loc='best')\n",
        "plt.tight_layout()\n",
        "plt.show()"
      ],
      "execution_count": 115,
      "outputs": [
        {
          "output_type": "display_data",
          "data": {
            "image/png": "[encoded data removed]",
            "text/plain": [
              "<Figure size 504x504 with 2 Axes>"
            ]
          },
          "metadata": {
            "needs_background": "light"
          }
        }
      ]
    },
    {
      "cell_type": "markdown",
      "metadata": {
        "id": "S2Q1od41Cpp6"
      },
      "source": [
        "##### `Stacked Bidirectional-LSTM`으로 정확도 측정"
      ]
    },
    {
      "cell_type": "code",
      "metadata": {
        "id": "3a-u1CEuChWr"
      },
      "source": [
        "input_layer = Input(shape=(timesteps, 128))\n",
        "x = input_layer\n",
        "x = Bidirectional(LSTM(2048, kernel_initializer='he_normal', return_sequences=True))(x)\n",
        "x = Bidirectional(LSTM(2048, kernel_initializer='he_normal'))(x)\n",
        "x = Dense(4096, activation='relu', kernel_initializer='he_normal')(x)\n",
        "x = Dense(4096, activation='relu', kernel_initializer='he_normal')(x)\n",
        "output_layer = Dense(5, activation='sigmoid')(x)\n",
        "model = Model(inputs=input_layer, outputs=output_layer)\n",
        "\n",
        "model.compile(optimizer='adam', loss=BinaryCrossentropy(from_logits=True), metrics=['accuracy'])"
      ],
      "execution_count": 84,
      "outputs": []
    },
    {
      "cell_type": "code",
      "metadata": {
        "colab": {
          "base_uri": "https://localhost:8080/"
        },
        "id": "gjb946xdfRUn",
        "outputId": "4f123b93-d4ee-4661-dc88-e95ec6c7ce10"
      },
      "source": [
        "filepath = 'best_weights_bilstm.hdf5'\n",
        "callbacks = [\n",
        "    EarlyStopping(monitor='val_accuracy', patience=20, verbose=True),\n",
        "    ModelCheckpoint(filepath, monitor='val_accuracy', verbose=True, save_best_only=True)\n",
        "]\n",
        "\n",
        "probe = model.fit(train_X,\n",
        "                  train_y,\n",
        "                  batch_size=512,\n",
        "                  verbose=0,\n",
        "                  epochs=500,\n",
        "                  callbacks=callbacks,\n",
        "                  validation_data=(valid_X, valid_y))"
      ],
      "execution_count": 85,
      "outputs": [
        {
          "output_type": "stream",
          "name": "stderr",
          "text": [
            "/usr/local/lib/python3.7/dist-packages/tensorflow/python/util/dispatch.py:1096: UserWarning: \"`binary_crossentropy` received `from_logits=True`, but the `output` argument was produced by a sigmoid or softmax activation and thus does not represent logits. Was this intended?\"\n",
            "  return dispatch_target(*args, **kwargs)\n"
          ]
        },
        {
          "output_type": "stream",
          "name": "stdout",
          "text": [
            "\n",
            "Epoch 00001: val_accuracy improved from -inf to 0.25077, saving model to best_weights_bilstm.hdf5\n",
            "\n",
            "Epoch 00002: val_accuracy improved from 0.25077 to 0.29872, saving model to best_weights_bilstm.hdf5\n",
            "\n",
            "Epoch 00003: val_accuracy did not improve from 0.29872\n",
            "\n",
            "Epoch 00004: val_accuracy improved from 0.29872 to 0.31554, saving model to best_weights_bilstm.hdf5\n",
            "\n",
            "Epoch 00005: val_accuracy did not improve from 0.31554\n",
            "\n",
            "Epoch 00006: val_accuracy improved from 0.31554 to 0.33653, saving model to best_weights_bilstm.hdf5\n",
            "\n",
            "Epoch 00007: val_accuracy improved from 0.33653 to 0.35589, saving model to best_weights_bilstm.hdf5\n",
            "\n",
            "Epoch 00008: val_accuracy did not improve from 0.35589\n",
            "\n",
            "Epoch 00009: val_accuracy improved from 0.35589 to 0.38647, saving model to best_weights_bilstm.hdf5\n",
            "\n",
            "Epoch 00010: val_accuracy improved from 0.38647 to 0.41469, saving model to best_weights_bilstm.hdf5\n",
            "\n",
            "Epoch 00011: val_accuracy did not improve from 0.41469\n",
            "\n",
            "Epoch 00012: val_accuracy improved from 0.41469 to 0.43966, saving model to best_weights_bilstm.hdf5\n",
            "\n",
            "Epoch 00013: val_accuracy did not improve from 0.43966\n",
            "\n",
            "Epoch 00014: val_accuracy improved from 0.43966 to 0.46137, saving model to best_weights_bilstm.hdf5\n",
            "\n",
            "Epoch 00015: val_accuracy did not improve from 0.46137\n",
            "\n",
            "Epoch 00016: val_accuracy did not improve from 0.46137\n",
            "\n",
            "Epoch 00017: val_accuracy did not improve from 0.46137\n",
            "\n",
            "Epoch 00018: val_accuracy improved from 0.46137 to 0.47205, saving model to best_weights_bilstm.hdf5\n",
            "\n",
            "Epoch 00019: val_accuracy did not improve from 0.47205\n",
            "\n",
            "Epoch 00020: val_accuracy did not improve from 0.47205\n",
            "\n",
            "Epoch 00021: val_accuracy did not improve from 0.47205\n",
            "\n",
            "Epoch 00022: val_accuracy did not improve from 0.47205\n",
            "\n",
            "Epoch 00023: val_accuracy did not improve from 0.47205\n",
            "\n",
            "Epoch 00024: val_accuracy improved from 0.47205 to 0.47259, saving model to best_weights_bilstm.hdf5\n",
            "\n",
            "Epoch 00025: val_accuracy did not improve from 0.47259\n",
            "\n",
            "Epoch 00026: val_accuracy did not improve from 0.47259\n",
            "\n",
            "Epoch 00027: val_accuracy did not improve from 0.47259\n",
            "\n",
            "Epoch 00028: val_accuracy did not improve from 0.47259\n",
            "\n",
            "Epoch 00029: val_accuracy did not improve from 0.47259\n",
            "\n",
            "Epoch 00030: val_accuracy did not improve from 0.47259\n",
            "\n",
            "Epoch 00031: val_accuracy did not improve from 0.47259\n",
            "\n",
            "Epoch 00032: val_accuracy did not improve from 0.47259\n",
            "\n",
            "Epoch 00033: val_accuracy did not improve from 0.47259\n",
            "\n",
            "Epoch 00034: val_accuracy did not improve from 0.47259\n",
            "\n",
            "Epoch 00035: val_accuracy improved from 0.47259 to 0.47295, saving model to best_weights_bilstm.hdf5\n",
            "\n",
            "Epoch 00036: val_accuracy did not improve from 0.47295\n",
            "\n",
            "Epoch 00037: val_accuracy improved from 0.47295 to 0.47892, saving model to best_weights_bilstm.hdf5\n",
            "\n",
            "Epoch 00038: val_accuracy improved from 0.47892 to 0.48272, saving model to best_weights_bilstm.hdf5\n",
            "\n",
            "Epoch 00039: val_accuracy did not improve from 0.48272\n",
            "\n",
            "Epoch 00040: val_accuracy did not improve from 0.48272\n",
            "\n",
            "Epoch 00041: val_accuracy did not improve from 0.48272\n",
            "\n",
            "Epoch 00042: val_accuracy did not improve from 0.48272\n",
            "\n",
            "Epoch 00043: val_accuracy did not improve from 0.48272\n",
            "\n",
            "Epoch 00044: val_accuracy did not improve from 0.48272\n",
            "\n",
            "Epoch 00045: val_accuracy did not improve from 0.48272\n",
            "\n",
            "Epoch 00046: val_accuracy did not improve from 0.48272\n",
            "\n",
            "Epoch 00047: val_accuracy did not improve from 0.48272\n",
            "\n",
            "Epoch 00048: val_accuracy did not improve from 0.48272\n",
            "\n",
            "Epoch 00049: val_accuracy did not improve from 0.48272\n",
            "\n",
            "Epoch 00050: val_accuracy did not improve from 0.48272\n",
            "\n",
            "Epoch 00051: val_accuracy did not improve from 0.48272\n",
            "\n",
            "Epoch 00052: val_accuracy did not improve from 0.48272\n",
            "\n",
            "Epoch 00053: val_accuracy did not improve from 0.48272\n",
            "\n",
            "Epoch 00054: val_accuracy did not improve from 0.48272\n",
            "\n",
            "Epoch 00055: val_accuracy did not improve from 0.48272\n",
            "\n",
            "Epoch 00056: val_accuracy did not improve from 0.48272\n",
            "\n",
            "Epoch 00057: val_accuracy did not improve from 0.48272\n",
            "\n",
            "Epoch 00058: val_accuracy did not improve from 0.48272\n",
            "Epoch 00058: early stopping\n"
          ]
        }
      ]
    },
    {
      "cell_type": "code",
      "metadata": {
        "colab": {
          "base_uri": "https://localhost:8080/"
        },
        "id": "1bwO590lDceM",
        "outputId": "20cc3fe0-cb89-4452-bc86-1032b0cf16ca"
      },
      "source": [
        "model.evaluate(test_X, test_y)"
      ],
      "execution_count": 86,
      "outputs": [
        {
          "output_type": "stream",
          "name": "stdout",
          "text": [
            "371/371 [==============================] - 12s 31ms/step - loss: 1.1803 - accuracy: 0.4593\n"
          ]
        },
        {
          "output_type": "execute_result",
          "data": {
            "text/plain": [
              "[1.1803113222122192, 0.4593043029308319]"
            ]
          },
          "metadata": {},
          "execution_count": 86
        }
      ]
    },
    {
      "cell_type": "code",
      "metadata": {
        "colab": {
          "base_uri": "https://localhost:8080/",
          "height": 513
        },
        "id": "vsOGr81z2kk3",
        "outputId": "3e24daee-fb08-4049-f1f2-41ea37a93ec7"
      },
      "source": [
        "keys = probe.history.keys()\n",
        "groups = ['loss', 'accuracy']\n",
        "fig = plt.figure(figsize=(7, 7))\n",
        "for index, group in enumerate(groups):\n",
        "    ax = fig.add_subplot(len(groups), 1, index + 1)\n",
        "    eligible_keys = [key for key in keys if group in key]\n",
        "    for key in eligible_keys:\n",
        "        ax.plot(probe.history[key], label=key)\n",
        "    ax.set_xlabel('Epoch')\n",
        "    ax.set_ylabel(group)\n",
        "    ax.legend(loc='best')\n",
        "plt.tight_layout()\n",
        "plt.show()"
      ],
      "execution_count": 87,
      "outputs": [
        {
          "output_type": "display_data",
          "data": {
            "image/png": "[encoded data removed]",
            "text/plain": [
              "<Figure size 504x504 with 2 Axes>"
            ]
          },
          "metadata": {
            "needs_background": "light"
          }
        }
      ]
    },
    {
      "cell_type": "markdown",
      "metadata": {
        "id": "YdY7SPYQnrRw"
      },
      "source": [
        "##### 단일 `Bidirectional LSTM`으로 정확도 테스트"
      ]
    },
    {
      "cell_type": "code",
      "metadata": {
        "id": "MTpRaW0bHSIW"
      },
      "source": [
        "input_layer = Input(shape=(timesteps, 128))\n",
        "x = input_layer\n",
        "x = Bidirectional(LSTM(4096, kernel_initializer='he_normal'))(x)\n",
        "output_layer = Dense(5, activation='sigmoid')(x)\n",
        "model = Model(inputs=input_layer, outputs=output_layer)\n",
        "\n",
        "model.compile(optimizer='adam', loss=BinaryCrossentropy(from_logits=True), metrics=['accuracy'])"
      ],
      "execution_count": 108,
      "outputs": []
    },
    {
      "cell_type": "code",
      "metadata": {
        "colab": {
          "base_uri": "https://localhost:8080/"
        },
        "id": "bSg9Q-DoYMUp",
        "outputId": "a23e2d2f-9fbd-4e89-ad8c-fa50fbfaa7dc"
      },
      "source": [
        "filepath = 'best_weights_dense_bilstm.hdf5'\n",
        "callbacks = [\n",
        "    EarlyStopping(monitor='val_accuracy', patience=20, verbose=True),\n",
        "    ModelCheckpoint(filepath, monitor='val_accuracy', verbose=True, save_best_only=True)\n",
        "]\n",
        "\n",
        "probe = model.fit(train_X,\n",
        "                  train_y,\n",
        "                  batch_size=512,\n",
        "                  verbose=0,\n",
        "                  epochs=500,\n",
        "                  callbacks=callbacks,\n",
        "                  validation_data=(valid_X, valid_y))"
      ],
      "execution_count": 109,
      "outputs": [
        {
          "output_type": "stream",
          "name": "stderr",
          "text": [
            "/usr/local/lib/python3.7/dist-packages/tensorflow/python/util/dispatch.py:1096: UserWarning: \"`binary_crossentropy` received `from_logits=True`, but the `output` argument was produced by a sigmoid or softmax activation and thus does not represent logits. Was this intended?\"\n",
            "  return dispatch_target(*args, **kwargs)\n"
          ]
        },
        {
          "output_type": "stream",
          "name": "stdout",
          "text": [
            "\n",
            "Epoch 00001: val_accuracy improved from -inf to 0.27574, saving model to best_weights_dense_bilstm.hdf5\n",
            "\n",
            "Epoch 00002: val_accuracy did not improve from 0.27574\n",
            "\n",
            "Epoch 00003: val_accuracy improved from 0.27574 to 0.28279, saving model to best_weights_dense_bilstm.hdf5\n",
            "\n",
            "Epoch 00004: val_accuracy improved from 0.28279 to 0.28949, saving model to best_weights_dense_bilstm.hdf5\n",
            "\n",
            "Epoch 00005: val_accuracy improved from 0.28949 to 0.29745, saving model to best_weights_dense_bilstm.hdf5\n",
            "\n",
            "Epoch 00006: val_accuracy improved from 0.29745 to 0.32332, saving model to best_weights_dense_bilstm.hdf5\n",
            "\n",
            "Epoch 00007: val_accuracy improved from 0.32332 to 0.34684, saving model to best_weights_dense_bilstm.hdf5\n",
            "\n",
            "Epoch 00008: val_accuracy improved from 0.34684 to 0.37253, saving model to best_weights_dense_bilstm.hdf5\n",
            "\n",
            "Epoch 00009: val_accuracy did not improve from 0.37253\n",
            "\n",
            "Epoch 00010: val_accuracy improved from 0.37253 to 0.39967, saving model to best_weights_dense_bilstm.hdf5\n",
            "\n",
            "Epoch 00011: val_accuracy improved from 0.39967 to 0.41831, saving model to best_weights_dense_bilstm.hdf5\n",
            "\n",
            "Epoch 00012: val_accuracy did not improve from 0.41831\n",
            "\n",
            "Epoch 00013: val_accuracy improved from 0.41831 to 0.43098, saving model to best_weights_dense_bilstm.hdf5\n",
            "\n",
            "Epoch 00014: val_accuracy improved from 0.43098 to 0.44907, saving model to best_weights_dense_bilstm.hdf5\n",
            "\n",
            "Epoch 00015: val_accuracy improved from 0.44907 to 0.45106, saving model to best_weights_dense_bilstm.hdf5\n",
            "\n",
            "Epoch 00016: val_accuracy did not improve from 0.45106\n",
            "\n",
            "Epoch 00017: val_accuracy did not improve from 0.45106\n",
            "\n",
            "Epoch 00018: val_accuracy improved from 0.45106 to 0.45558, saving model to best_weights_dense_bilstm.hdf5\n",
            "\n",
            "Epoch 00019: val_accuracy improved from 0.45558 to 0.45703, saving model to best_weights_dense_bilstm.hdf5\n",
            "\n",
            "Epoch 00020: val_accuracy did not improve from 0.45703\n",
            "\n",
            "Epoch 00021: val_accuracy did not improve from 0.45703\n",
            "\n",
            "Epoch 00022: val_accuracy improved from 0.45703 to 0.45757, saving model to best_weights_dense_bilstm.hdf5\n",
            "\n",
            "Epoch 00023: val_accuracy did not improve from 0.45757\n",
            "\n",
            "Epoch 00024: val_accuracy improved from 0.45757 to 0.46137, saving model to best_weights_dense_bilstm.hdf5\n",
            "\n",
            "Epoch 00025: val_accuracy did not improve from 0.46137\n",
            "\n",
            "Epoch 00026: val_accuracy improved from 0.46137 to 0.46662, saving model to best_weights_dense_bilstm.hdf5\n",
            "\n",
            "Epoch 00027: val_accuracy did not improve from 0.46662\n",
            "\n",
            "Epoch 00028: val_accuracy did not improve from 0.46662\n",
            "\n",
            "Epoch 00029: val_accuracy did not improve from 0.46662\n",
            "\n",
            "Epoch 00030: val_accuracy did not improve from 0.46662\n",
            "\n",
            "Epoch 00031: val_accuracy did not improve from 0.46662\n",
            "\n",
            "Epoch 00032: val_accuracy improved from 0.46662 to 0.47295, saving model to best_weights_dense_bilstm.hdf5\n",
            "\n",
            "Epoch 00033: val_accuracy did not improve from 0.47295\n",
            "\n",
            "Epoch 00034: val_accuracy did not improve from 0.47295\n",
            "\n",
            "Epoch 00035: val_accuracy did not improve from 0.47295\n",
            "\n",
            "Epoch 00036: val_accuracy did not improve from 0.47295\n",
            "\n",
            "Epoch 00037: val_accuracy did not improve from 0.47295\n",
            "\n",
            "Epoch 00038: val_accuracy did not improve from 0.47295\n",
            "\n",
            "Epoch 00039: val_accuracy did not improve from 0.47295\n",
            "\n",
            "Epoch 00040: val_accuracy did not improve from 0.47295\n",
            "\n",
            "Epoch 00041: val_accuracy did not improve from 0.47295\n",
            "\n",
            "Epoch 00042: val_accuracy did not improve from 0.47295\n",
            "\n",
            "Epoch 00043: val_accuracy did not improve from 0.47295\n",
            "\n",
            "Epoch 00044: val_accuracy did not improve from 0.47295\n",
            "\n",
            "Epoch 00045: val_accuracy did not improve from 0.47295\n",
            "\n",
            "Epoch 00046: val_accuracy did not improve from 0.47295\n",
            "\n",
            "Epoch 00047: val_accuracy did not improve from 0.47295\n",
            "\n",
            "Epoch 00048: val_accuracy did not improve from 0.47295\n",
            "\n",
            "Epoch 00049: val_accuracy improved from 0.47295 to 0.47313, saving model to best_weights_dense_bilstm.hdf5\n",
            "\n",
            "Epoch 00050: val_accuracy did not improve from 0.47313\n",
            "\n",
            "Epoch 00051: val_accuracy did not improve from 0.47313\n",
            "\n",
            "Epoch 00052: val_accuracy did not improve from 0.47313\n",
            "\n",
            "Epoch 00053: val_accuracy did not improve from 0.47313\n",
            "\n",
            "Epoch 00054: val_accuracy did not improve from 0.47313\n",
            "\n",
            "Epoch 00055: val_accuracy did not improve from 0.47313\n",
            "\n",
            "Epoch 00056: val_accuracy did not improve from 0.47313\n",
            "\n",
            "Epoch 00057: val_accuracy did not improve from 0.47313\n",
            "\n",
            "Epoch 00058: val_accuracy did not improve from 0.47313\n",
            "\n",
            "Epoch 00059: val_accuracy did not improve from 0.47313\n",
            "\n",
            "Epoch 00060: val_accuracy did not improve from 0.47313\n",
            "\n",
            "Epoch 00061: val_accuracy did not improve from 0.47313\n",
            "\n",
            "Epoch 00062: val_accuracy did not improve from 0.47313\n",
            "\n",
            "Epoch 00063: val_accuracy did not improve from 0.47313\n",
            "\n",
            "Epoch 00064: val_accuracy did not improve from 0.47313\n",
            "\n",
            "Epoch 00065: val_accuracy did not improve from 0.47313\n",
            "\n",
            "Epoch 00066: val_accuracy did not improve from 0.47313\n",
            "\n",
            "Epoch 00067: val_accuracy did not improve from 0.47313\n",
            "\n",
            "Epoch 00068: val_accuracy did not improve from 0.47313\n",
            "\n",
            "Epoch 00069: val_accuracy did not improve from 0.47313\n",
            "Epoch 00069: early stopping\n"
          ]
        }
      ]
    },
    {
      "cell_type": "code",
      "metadata": {
        "colab": {
          "base_uri": "https://localhost:8080/"
        },
        "id": "4_u_doTUYeyL",
        "outputId": "07466583-d3ba-41fb-ccfc-f33353bee0ae"
      },
      "source": [
        "model.evaluate(test_X, test_y)"
      ],
      "execution_count": 110,
      "outputs": [
        {
          "output_type": "stream",
          "name": "stdout",
          "text": [
            "371/371 [==============================] - 12s 31ms/step - loss: 0.9563 - accuracy: 0.4587\n"
          ]
        },
        {
          "output_type": "execute_result",
          "data": {
            "text/plain": [
              "[0.9562966227531433, 0.45871326327323914]"
            ]
          },
          "metadata": {},
          "execution_count": 110
        }
      ]
    },
    {
      "cell_type": "code",
      "metadata": {
        "colab": {
          "base_uri": "https://localhost:8080/",
          "height": 513
        },
        "id": "898bgL8UYgTK",
        "outputId": "45b87e35-8768-4407-efb9-95aedd74509d"
      },
      "source": [
        "keys = probe.history.keys()\n",
        "groups = ['loss', 'accuracy']\n",
        "fig = plt.figure(figsize=(7, 7))\n",
        "for index, group in enumerate(groups):\n",
        "    ax = fig.add_subplot(len(groups), 1, index + 1)\n",
        "    eligible_keys = [key for key in keys if group in key]\n",
        "    for key in eligible_keys:\n",
        "        ax.plot(probe.history[key], label=key)\n",
        "    ax.set_xlabel('Epoch')\n",
        "    ax.set_ylabel(group)\n",
        "    ax.legend(loc='best')\n",
        "plt.tight_layout()\n",
        "plt.show()"
      ],
      "execution_count": 111,
      "outputs": [
        {
          "output_type": "display_data",
          "data": {
            "image/png": "[encoded data removed]",
            "text/plain": [
              "<Figure size 504x504 with 2 Axes>"
            ]
          },
          "metadata": {
            "needs_background": "light"
          }
        }
      ]
    },
    {
      "cell_type": "markdown",
      "metadata": {
        "id": "u-wq9hPzqXkr"
      },
      "source": [
        "#### 모델별 정확도 비교"
      ]
    },
    {
      "cell_type": "code",
      "metadata": {
        "colab": {
          "base_uri": "https://localhost:8080/"
        },
        "id": "EHOJKB0ZqaKz",
        "outputId": "d8c2fd88-f91f-4cf9-cd74-a2fd2e374c4a"
      },
      "source": [
        "model_accuracy = {\n",
        "    \"K-NN\": best_estimator.score(flatten_timeseries(test_X), test_y),\n",
        "    \"Stacked LSTM\": load_model('best_weights_lstm.hdf5').evaluate(test_X, test_y)[1],\n",
        "    \"Stacked BiLSTM\": load_model('best_weights_bilstm.hdf5').evaluate(test_X, test_y)[1],\n",
        "    \"Single BiLSTM\": load_model('best_weights_dense_bilstm.hdf5').evaluate(test_X, test_y)[1]\n",
        "}"
      ],
      "execution_count": 130,
      "outputs": [
        {
          "output_type": "stream",
          "name": "stderr",
          "text": [
            "/usr/local/lib/python3.7/dist-packages/tensorflow/python/util/dispatch.py:1096: UserWarning: \"`binary_crossentropy` received `from_logits=True`, but the `output` argument was produced by a sigmoid or softmax activation and thus does not represent logits. Was this intended?\"\n",
            "  return dispatch_target(*args, **kwargs)\n"
          ]
        },
        {
          "output_type": "stream",
          "name": "stdout",
          "text": [
            "371/371 [==============================] - 3s 4ms/step - loss: 0.7689 - accuracy: 0.4486\n",
            "371/371 [==============================] - 14s 32ms/step - loss: 1.0427 - accuracy: 0.4753\n",
            "371/371 [==============================] - 13s 31ms/step - loss: 0.8427 - accuracy: 0.4752\n"
          ]
        }
      ]
    },
    {
      "cell_type": "code",
      "metadata": {
        "colab": {
          "base_uri": "https://localhost:8080/",
          "height": 265
        },
        "id": "S4irWo-crlUo",
        "outputId": "75b6b818-4c33-431a-8eec-d164aca0c4b3"
      },
      "source": [
        "bar_X = np.arange(len(model_accuracy))\n",
        "\n",
        "plt.bar(bar_X, model_accuracy.values())\n",
        "plt.xticks(bar_X, model_accuracy.keys())\n",
        "plt.show()"
      ],
      "execution_count": 131,
      "outputs": [
        {
          "output_type": "display_data",
          "data": {
            "image/png": "[encoded data removed]",
            "text/plain": [
              "<Figure size 432x288 with 1 Axes>"
            ]
          },
          "metadata": {
            "needs_background": "light"
          }
        }
      ]
    }
  ]
}